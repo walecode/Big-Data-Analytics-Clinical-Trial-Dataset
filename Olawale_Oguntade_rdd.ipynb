{
 "cells": [
  {
   "cell_type": "code",
   "execution_count": 0,
   "metadata": {
    "application/vnd.databricks.v1+cell": {
     "cellMetadata": {
      "byteLimit": 2048000,
      "rowLimit": 10000
     },
     "inputWidgets": {},
     "nuid": "3f1b3471-191a-455e-a906-63d11a73b75f",
     "showTitle": false,
     "title": ""
    }
   },
   "outputs": [
    {
     "output_type": "display_data",
     "data": {
      "text/plain": [
       "Enter the file name of the zipped clinical trial file you will be working with: clinicaltrial_2023"
      ]
     },
     "metadata": {},
     "output_type": "display_data"
    }
   ],
   "source": [
    "# A user prompt to enter a value for myfile1, \n",
    "# the value should be name of the clinicaltrial file to be worked for the specific instance excluding the file extension. \n",
    "# E.g. If you are working with the 2023 file, you should enter clinicaltrial_2023 when prompted by the system and click Enter.\n",
    "\n",
    "myfile1 = input(\"Enter the file name of the zipped clinical trial file you will be working with:\")\n",
    "myfile2 = \"pharma\""
   ]
  },
  {
   "cell_type": "code",
   "execution_count": 0,
   "metadata": {
    "application/vnd.databricks.v1+cell": {
     "cellMetadata": {
      "byteLimit": 2048000,
      "rowLimit": 10000
     },
     "inputWidgets": {},
     "nuid": "ff7168d5-86b4-4718-93b1-128c626bc676",
     "showTitle": false,
     "title": ""
    }
   },
   "outputs": [],
   "source": [
    "import os\n",
    "os.environ['myfile1'] = myfile1\n",
    "os.environ['myfile2'] = myfile2"
   ]
  },
  {
   "cell_type": "code",
   "execution_count": 0,
   "metadata": {
    "application/vnd.databricks.v1+cell": {
     "cellMetadata": {
      "byteLimit": 2048000,
      "rowLimit": 10000
     },
     "inputWidgets": {},
     "nuid": "9999668d-4352-4900-951c-6c8db7036b49",
     "showTitle": false,
     "title": ""
    }
   },
   "outputs": [
    {
     "output_type": "stream",
     "name": "stdout",
     "output_type": "stream",
     "text": [
      "Out[3]: True"
     ]
    }
   ],
   "source": [
    "## Clear the content that needs to be created again from the DBFS\n",
    "\n",
    "dbutils.fs.rm(\"/FileStore/tables/\" + myfile1 + \".csv\")\n",
    "dbutils.fs.rm(\"/FileStore/tables/\" + myfile2 + \".csv\")"
   ]
  },
  {
   "cell_type": "code",
   "execution_count": 0,
   "metadata": {
    "application/vnd.databricks.v1+cell": {
     "cellMetadata": {
      "byteLimit": 2048000,
      "rowLimit": 10000
     },
     "inputWidgets": {},
     "nuid": "ff17e326-abcf-4b9f-aab6-569f91fef368",
     "showTitle": false,
     "title": ""
    }
   },
   "outputs": [
    {
     "output_type": "stream",
     "name": "stdout",
     "output_type": "stream",
     "text": [
      "Out[4]: True"
     ]
    }
   ],
   "source": [
    "# Copy the file we want to unzip to the tmp folder in the local file system\n",
    "\n",
    "dbutils.fs.cp(\"/FileStore/tables/\" + myfile1 + \".zip\", \"file:/tmp/\")\n",
    "dbutils.fs.cp(\"/FileStore/tables/\" + myfile2 + \".zip\", \"file:/tmp/\")"
   ]
  },
  {
   "cell_type": "code",
   "execution_count": 0,
   "metadata": {
    "application/vnd.databricks.v1+cell": {
     "cellMetadata": {
      "byteLimit": 2048000,
      "rowLimit": 10000
     },
     "inputWidgets": {},
     "nuid": "a15f578b-999d-4b0c-a496-a414b2ecc97a",
     "showTitle": false,
     "title": ""
    }
   },
   "outputs": [
    {
     "output_type": "stream",
     "name": "stdout",
     "output_type": "stream",
     "text": [
      "Archive:  /tmp/clinicaltrial_2023.zip\n  inflating: /tmp/clinicaltrial_2023.csv  \nArchive:  /tmp/pharma.zip\n  inflating: /tmp/pharma.csv         \n"
     ]
    }
   ],
   "source": [
    "%sh\n",
    "# Unzipping the files in the local file system\n",
    "\n",
    "unzip /tmp/$myfile1.zip -d /tmp\n",
    "unzip /tmp/$myfile2.zip -d /tmp"
   ]
  },
  {
   "cell_type": "code",
   "execution_count": 0,
   "metadata": {
    "application/vnd.databricks.v1+cell": {
     "cellMetadata": {
      "byteLimit": 2048000,
      "rowLimit": 10000
     },
     "inputWidgets": {},
     "nuid": "9715dad6-f9fa-4534-bc81-dafe0a4e9936",
     "showTitle": false,
     "title": ""
    }
   },
   "outputs": [
    {
     "output_type": "stream",
     "name": "stdout",
     "output_type": "stream",
     "text": [
      "Out[6]: True"
     ]
    }
   ],
   "source": [
    "dbutils.fs.mv(\"file:/tmp/\" + myfile1 + \".csv\", \"/FileStore/tables/\", True)\n",
    "dbutils.fs.mv(\"file:/tmp/\" + myfile2 + \".csv\", \"/FileStore/tables/\", True)"
   ]
  },
  {
   "cell_type": "code",
   "execution_count": 0,
   "metadata": {
    "application/vnd.databricks.v1+cell": {
     "cellMetadata": {
      "byteLimit": 2048000,
      "rowLimit": 10000
     },
     "inputWidgets": {},
     "nuid": "4f4d1e8c-05e0-407c-b2c8-5d85233fa726",
     "showTitle": false,
     "title": ""
    }
   },
   "outputs": [],
   "source": [
    "# creating an RDD from its corresponding csv file\n",
    "\n",
    "clinicaltrial_rdd = sc.textFile(\"/FileStore/tables/\" + myfile1 + \".csv\")\n",
    "\n",
    "pharmaRDD = sc.textFile(\"/FileStore/tables/\" + myfile2 + \".csv\")"
   ]
  },
  {
   "cell_type": "code",
   "execution_count": 0,
   "metadata": {
    "application/vnd.databricks.v1+cell": {
     "cellMetadata": {
      "byteLimit": 2048000,
      "rowLimit": 10000
     },
     "inputWidgets": {},
     "nuid": "77f12334-eeb5-4f2d-83bc-0c1f04c0b7ef",
     "showTitle": false,
     "title": ""
    }
   },
   "outputs": [
    {
     "output_type": "stream",
     "name": "stdout",
     "output_type": "stream",
     "text": [
      "Out[8]: ['\"Id\\tStudy Title\\tAcronym\\tStatus\\tConditions\\tInterventions\\tSponsor\\tCollaborators\\tEnrollment\\tFunder Type\\tType\\tStudy Design\\tStart\\tCompletion\",,,,,,,,,,,,,,,,,,,,,,,,,,,,,,,,,,,,,,,,,,,,,,,,,,,,,,,,,,,,,,,,,,,,,,,,,,,,,,,,,,,,,,,,,,,,,,,,,,,,,,,,,,,,,,,,,,,,,,,,,,,,,,,,,,,,,,,,,,,,,,,,,,,,,,,,,,,,,,,,,,,,,,,,,,,,,,,,,,,,,,,,,,,,,,,,,,,,,,,,,,,,,,,,,,',\n '\"NCT03630471\\tEffectiveness of a Problem-solving Intervention for Common Adolescent Mental Health Problems in India\\tPRIDE\\tCOMPLETED\\tMental Health Issue (E.G.\", Depression, Psychosis, Personality Disorder,\" Substance Abuse)\\tBEHAVIORAL: PRIDE \\'Step 1\\' problem-solving intervention|BEHAVIORAL: Enhanced usual care\\tSangath\\tHarvard Medical School (HMS and HSDM)|London School of Hygiene and Tropical Medicine\\t250.0\\tOTHER\\tINTERVENTIONAL\\tAllocation: RANDOMIZED|Intervention Model: PARALLEL|Masking: DOUBLE (INVESTIGATOR\",\" OUTCOMES_ASSESSOR)|Primary Purpose: TREATMENT\\t2018-08-20\\t2019-02-28\",,,,,,,,,,,,,,,,,,,,,,,,,,,,,,,,,,,,,,,,,,,,,,,,,,,,,,,,,,,,,,,,,,,,,,,,,,,,,,,,,,,,,,,,,,,,,,,,,,,,,,,,,,,,,,,,,,,,,,,,,,,,,,,,,,,,,,,,,,,,,,,,,,,,,,,,,,,,,,,,,,,,,,,,,,,,,,,,,,,,,,,,,,,,,,,,,,,,,,,,,,,,,']"
     ]
    }
   ],
   "source": [
    "clinicaltrial_rdd.take(2)"
   ]
  },
  {
   "cell_type": "code",
   "execution_count": 0,
   "metadata": {
    "application/vnd.databricks.v1+cell": {
     "cellMetadata": {
      "byteLimit": 2048000,
      "rowLimit": 10000
     },
     "inputWidgets": {},
     "nuid": "d5a0b2a6-e7f3-4e87-bd6d-430a07f6c04f",
     "showTitle": false,
     "title": ""
    }
   },
   "outputs": [
    {
     "output_type": "stream",
     "name": "stdout",
     "output_type": "stream",
     "text": [
      "Out[9]: ['\"Company\",\"Parent_Company\",\"Penalty_Amount\",\"Subtraction_From_Penalty\",\"Penalty_Amount_Adjusted_For_Eliminating_Multiple_Counting\",\"Penalty_Year\",\"Penalty_Date\",\"Offense_Group\",\"Primary_Offense\",\"Secondary_Offense\",\"Description\",\"Level_of_Government\",\"Action_Type\",\"Agency\",\"Civil/Criminal\",\"Prosecution_Agreement\",\"Court\",\"Case_ID\",\"Private_Litigation_Case_Title\",\"Lawsuit_Resolution\",\"Facility_State\",\"City\",\"Address\",\"Zip\",\"NAICS_Code\",\"NAICS_Translation\",\"HQ_Country_of_Parent\",\"HQ_State_of_Parent\",\"Ownership_Structure\",\"Parent_Company_Stock_Ticker\",\"Major_Industry_of_Parent\",\"Specific_Industry_of_Parent\",\"Info_Source\",\"Notes\"',\n '\"Abbott Laboratories\",\"Abbott Laboratories\",\"$5,475,000\",\"$0\",\"$5,475,000\",\"2013\",\"20131227\",\"government-contracting-related offenses\",\"False Claims Act and related\",\"kickbacks and bribery\",\"Abbott Laboratories agreed to $5.475 million to resolve allegations that it violated the False Claims Act by paying kickbacks to induce doctors to implant the company\\'s carotid, biliary and peripheral vascular products.\",\"federal\",\"agency action\",\"Justice Department Civil Division\",\"civil\",\"\",\"\",\"\",\"\",\"\",\"\",\"\",\"\",\"\",\"\",\"\",\"USA\",\"Illinois\",\"publicly traded\",\"ABT\",\"pharmaceuticals\",\"pharmaceuticals\",\"https://www.justice.gov/opa/pr/abbott-laboratories-pays-us-5475-million-settle-claims-company-paid-kickbacks-physicians\",\"\"']"
     ]
    }
   ],
   "source": [
    "pharmaRDD.take(2)"
   ]
  },
  {
   "cell_type": "code",
   "execution_count": 0,
   "metadata": {
    "application/vnd.databricks.v1+cell": {
     "cellMetadata": {
      "byteLimit": 2048000,
      "rowLimit": 10000
     },
     "inputWidgets": {},
     "nuid": "84ab885a-f5a0-4a7b-8fde-4f32c1f5b877",
     "showTitle": false,
     "title": ""
    }
   },
   "outputs": [],
   "source": [
    "# Each row of data includes trailing commas which are not required for our purpose. We apply the rstrip() fucntion to remove any trailing commas at the end of each row.\n",
    "#Each row of data is bounded by a double quote which could be removed by using the strip() function. The strip() function is applied to remove the quotes at the beginning and at the end of ach row\n",
    "if (myfile1 == 'clinicaltrial_2023'):               \n",
    "    clinicaltrial_rdd = clinicaltrial_rdd.map(lambda line: (line.rstrip(','))).\\\n",
    "        map(lambda line: line.strip('\"')).\\\n",
    "            map(lambda line: line.split('\\t')).\\\n",
    "                filter(lambda values: len(values) == 14)\n",
    "else:\n",
    "    clinicaltrial_rdd = clinicaltrial_rdd.map(lambda line: line.split(\"|\"))"
   ]
  },
  {
   "cell_type": "code",
   "execution_count": 0,
   "metadata": {
    "application/vnd.databricks.v1+cell": {
     "cellMetadata": {
      "byteLimit": 2048000,
      "rowLimit": 10000
     },
     "inputWidgets": {},
     "nuid": "a60be14f-e92b-4713-9011-6050f5c2b067",
     "showTitle": false,
     "title": ""
    }
   },
   "outputs": [],
   "source": [
    "# An assumption will be made here that the parent company contains all possible pharmaceutical companies.\n",
    "parentCompanyRDD = pharmaRDD.map(lambda x: x.split(',')[1]).\\\n",
    "    map(lambda x: x.strip('\"')).\\\n",
    "        filter(lambda s: s != 'Parent_Company')"
   ]
  },
  {
   "cell_type": "code",
   "execution_count": 0,
   "metadata": {
    "application/vnd.databricks.v1+cell": {
     "cellMetadata": {
      "byteLimit": 2048000,
      "rowLimit": 10000
     },
     "inputWidgets": {},
     "nuid": "52bc4ad7-ca32-48da-aa69-2414b3c31ae7",
     "showTitle": false,
     "title": ""
    }
   },
   "outputs": [
    {
     "output_type": "stream",
     "name": "stdout",
     "output_type": "stream",
     "text": [
      "The Distinct Number of studies in the dataset is: 483420\n"
     ]
    }
   ],
   "source": [
    "# Question 1 - The distinct number of studies in the dataset.\n",
    "distint_num_studies_RDD = clinicaltrial_rdd.map(lambda col: col[0]).\\\n",
    "    filter(lambda s: s != 'Id' and s != '').\\\n",
    "        distinct().\\\n",
    "            count()\n",
    "            \n",
    "print(f\"The Distinct Number of studies in the dataset is: {distint_num_studies_RDD}\")"
   ]
  },
  {
   "cell_type": "code",
   "execution_count": 0,
   "metadata": {
    "application/vnd.databricks.v1+cell": {
     "cellMetadata": {
      "byteLimit": 2048000,
      "rowLimit": 10000
     },
     "inputWidgets": {},
     "nuid": "938b4381-94ca-4ba1-9a2e-2b136bf1d531",
     "showTitle": false,
     "title": ""
    }
   },
   "outputs": [
    {
     "output_type": "stream",
     "name": "stdout",
     "output_type": "stream",
     "text": [
      "Out[13]: [('INTERVENTIONAL', 371382),\n ('OBSERVATIONAL', 110221),\n ('EXPANDED_ACCESS', 928)]"
     ]
    }
   ],
   "source": [
    "# Question 2 - You should list all the types (as contained in the Type column) of studies in the dataset along with the frequencies of each type.\n",
    " \n",
    "clinicaltrial_rdd.map(lambda col: col[10] if myfile1 == \"clinicaltrial_2023\" else col[5]).\\\n",
    "    filter(lambda s: s != 'Type' and s != '' )\\\n",
    "        .map(lambda s: (s, 1)).\\\n",
    "            reduceByKey(lambda a,b: a + b).\\\n",
    "                map(lambda x: (x[1], x[0])).\\\n",
    "                    sortByKey(ascending=False).\\\n",
    "                        map(lambda x: (x[1], x[0])).\\\n",
    "                            collect()"
   ]
  },
  {
   "cell_type": "code",
   "execution_count": 0,
   "metadata": {
    "application/vnd.databricks.v1+cell": {
     "cellMetadata": {
      "byteLimit": 2048000,
      "rowLimit": 10000
     },
     "inputWidgets": {},
     "nuid": "7f02466b-4b2d-456c-b4e0-9f75425708f0",
     "showTitle": false,
     "title": ""
    }
   },
   "outputs": [
    {
     "output_type": "stream",
     "name": "stdout",
     "output_type": "stream",
     "text": [
      "The top 5 conditions with their frequencies are:\n\nHealthy:   9731\nBreast Cancer:   7502\nObesity:   6549\nStroke:   4071\nHypertension:   4020\n"
     ]
    }
   ],
   "source": [
    "# Question 3 - The top 5 conditions (from Conditions) with their frequencies\n",
    "          \n",
    "top5_conditions_RDD = clinicaltrial_rdd.\\\n",
    "    map(lambda col: col[4] if myfile1 == \"clinicaltrial_2023\" else col[7]).\\\n",
    "    flatMap(lambda row: row.split(\"|\") if myfile1 == \"clinicaltrial_2023\" else row.split(\",\")).\\\n",
    "        filter(lambda s: s != 'Conditions' and s != '').\\\n",
    "            map(lambda s: (s, 1)).\\\n",
    "                reduceByKey(lambda a,b: a + b).\\\n",
    "                    top(5, key = lambda line: line[1])\n",
    "\n",
    "print('The top 5 conditions with their frequencies are:\\n')\n",
    "for i in range(len(top5_conditions_RDD)):\n",
    "    print (f\"{top5_conditions_RDD[i][0]}:   {top5_conditions_RDD[i][1]}\")"
   ]
  },
  {
   "cell_type": "code",
   "execution_count": 0,
   "metadata": {
    "application/vnd.databricks.v1+cell": {
     "cellMetadata": {
      "byteLimit": 2048000,
      "rowLimit": 10000
     },
     "inputWidgets": {},
     "nuid": "64f8e244-a3cb-464f-97d4-13adf749f892",
     "showTitle": false,
     "title": ""
    }
   },
   "outputs": [
    {
     "output_type": "stream",
     "name": "stdout",
     "output_type": "stream",
     "text": [
      "The 10 most common sponsors that are not pharmaceutical companies, along with the number of clinical trials they have sponsored:\n\nNational Cancer Institute (NCI):   3410\nAssiut University:   3335\nCairo University:   3023\nAssistance Publique - Hôpitaux de Paris:   2951\nMayo Clinic:   2766\nM.D. Anderson Cancer Center:   2702\nNovartis Pharmaceuticals:   2393\nNational Institute of Allergy and Infectious Diseases (NIAID):   2340\nMassachusetts General Hospital:   2263\nNational Taiwan University Hospital:   2181\n"
     ]
    }
   ],
   "source": [
    "# Question 4 - Find the 10 most common sponsors that are not pharmaceutical companies, along with the number of clinical trials they have sponsored.\n",
    "\n",
    "top10_coommon_sponsor_RDD = clinicaltrial_rdd.map(lambda line: line[6] if myfile1 == \"clinicaltrial_2023\" else line[1]).\\\n",
    "    filter(lambda s: s != 'Sponsor' and s != '').\\\n",
    "            subtract(parentCompanyRDD).\\\n",
    "                map(lambda s: (s, 1)).\\\n",
    "                    reduceByKey(lambda a,b: a + b).\\\n",
    "                        top(10, key = lambda line: line[1])\n",
    "\n",
    "\n",
    "print('The 10 most common sponsors that are not pharmaceutical companies, along with the number of clinical trials they have sponsored:\\n')\n",
    "for i in range(len(top10_coommon_sponsor_RDD)):\n",
    "    print (f\"{top10_coommon_sponsor_RDD[i][0]}:   {top10_coommon_sponsor_RDD[i][1]}\")"
   ]
  },
  {
   "cell_type": "code",
   "execution_count": 0,
   "metadata": {
    "application/vnd.databricks.v1+cell": {
     "cellMetadata": {
      "byteLimit": 2048000,
      "rowLimit": 10000
     },
     "inputWidgets": {},
     "nuid": "0cd4fc92-9d48-4730-8878-fc49fd1c9799",
     "showTitle": false,
     "title": ""
    }
   },
   "outputs": [
    {
     "output_type": "stream",
     "name": "stdout",
     "output_type": "stream",
     "text": [
      "Month of Completion    Number of Completed Studies\n01                       1494\n02                       1272\n03                       1552\n04                       1324\n05                       1415\n06                       1619\n07                       1360\n08                       1230\n09                       1152\n10                       1058\n11                       909\n12                       1082\n"
     ]
    }
   ],
   "source": [
    "# Question 5\n",
    "if (myfile1 == \"clinicaltrial_2023\"):\n",
    "  num_completed_study_dates_byMonth_RDD = clinicaltrial_rdd.filter(lambda row: row[3] == 'COMPLETED').\\\n",
    "    map(lambda line: line[13]).\\\n",
    "      filter(lambda s: s != 'Completion' and s != '').\\\n",
    "        map(lambda line: line.split(\"-\"))\\\n",
    "          .map(lambda line: line[1] if line[0] == '2023' else None).\\\n",
    "            filter(lambda s: s is not None).\\\n",
    "              map(lambda s: (s, 1)).\\\n",
    "                reduceByKey(lambda a,b: a + b).\\\n",
    "                  sortByKey()\n",
    "\n",
    "elif (myfile1 == \"clinicaltrial_2021\"):\n",
    "  num_completed_study_dates_byMonth_RDD = clinicaltrial_rdd.filter(lambda row: row[2] == 'Completed').\\\n",
    "    map(lambda line: line[4]).\\\n",
    "      filter(lambda s: s != '').\\\n",
    "        map(lambda line: line.split(\" \"))\\\n",
    "          .map(lambda line: line[0] if line[1] == '2021' else None).\\\n",
    "            filter(lambda s: s is not None).\\\n",
    "              map(lambda s: (s, 1)).\\\n",
    "                reduceByKey(lambda a,b: a + b).\\\n",
    "                  sortByKey()\n",
    "\n",
    "\n",
    "else:\n",
    "  num_completed_study_dates_byMonth_RDD = clinicaltrial_rdd.filter(lambda row: row[2] == 'Completed').\\\n",
    "    map(lambda line: line[4]).\\\n",
    "      filter(lambda s: s != '').\\\n",
    "        map(lambda line: line.split(\" \"))\\\n",
    "          .map(lambda line: line[0] if line[1] == '2020' else None).\\\n",
    "            filter(lambda s: s is not None).\\\n",
    "              map(lambda s: (s, 1)).\\\n",
    "                reduceByKey(lambda a,b: a + b).\\\n",
    "                  sortByKey()\n",
    "\n",
    "# Creating a table  the result\n",
    "num_completed_study_dates_byMonth = num_completed_study_dates_byMonth_RDD.collect()\n",
    "header1 = 'Month of Completion' \n",
    "header2 = 'Number of Completed Studies'\n",
    "tab1 = ' ' * 4\n",
    "print(f\"{header1}{tab1}{header2}\")\n",
    "headlength = len(header1 + tab1)\n",
    "tab2 = ' ' * headlength\n",
    "for i in range(len(num_completed_study_dates_byMonth)):\n",
    "  print(f\"{num_completed_study_dates_byMonth[i][0]}{tab2}{num_completed_study_dates_byMonth[i][1]}\")"
   ]
  },
  {
   "cell_type": "code",
   "execution_count": 0,
   "metadata": {
    "application/vnd.databricks.v1+cell": {
     "cellMetadata": {
      "byteLimit": 2048000,
      "rowLimit": 10000
     },
     "inputWidgets": {},
     "nuid": "831a4335-d078-47ca-95e0-bc612c91fb38",
     "showTitle": false,
     "title": ""
    }
   },
   "outputs": [
    {
     "output_type": "display_data",
     "data": {
      "image/png": "[encoded data removed]"
     },
     "metadata": {
      "application/vnd.databricks.v1+output": {
       "addedWidgets": {},
       "arguments": {},
       "data": "data:image/png;base64,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\n",
       "datasetInfos": [],
       "metadata": {},
       "removedWidgets": [],
       "type": "image"
      }
     },
     "output_type": "display_data"
    }
   ],
   "source": [
    "import matplotlib.pyplot as plt\n",
    "import numpy as np\n",
    "plt.style.use('default')\n",
    "\n",
    "x = num_completed_study_dates_byMonth_RDD.map(lambda line: line[0]).collect()\n",
    "y = num_completed_study_dates_byMonth_RDD.map(lambda line: line[1]).collect()\n",
    "\n",
    "plt.bar(x,y)\n",
    "plt.margins(0.001)\n",
    "\n",
    "plt.xlabel('Month of Completion')\n",
    "plt.ylabel('Number of Completed Studies')\n",
    "plt.title('Plot number of completed studies for each month in 2023')\n",
    "plt.show()"
   ]
  }
 ],
 "metadata": {
  "application/vnd.databricks.v1+notebook": {
   "dashboards": [],
   "language": "python",
   "notebookMetadata": {
    "mostRecentlyExecutedCommandWithImplicitDF": {
     "commandId": 2396007965221184,
     "dataframes": [
      "_sqldf"
     ]
    },
    "pythonIndentUnit": 4
   },
   "notebookName": "Olawale_Oguntade_rdd",
   "widgets": {}
  }
 },
 "nbformat": 4,
 "nbformat_minor": 0
}
